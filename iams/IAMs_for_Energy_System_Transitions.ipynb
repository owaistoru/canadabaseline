{
 "cells": [
  {
   "cell_type": "markdown",
   "metadata": {},
   "source": [
    "# Welcome to Energy System Transitions\n",
    "#### Please refer to the syllabus for the course outline and learning objectives.\n"
   ]
  },
  {
   "cell_type": "markdown",
   "metadata": {},
   "source": [
    "# Course Schedule\n",
    "\n",
    "\n",
    "##### <center> Class 1 - Introduction  </center>\n",
    "| <center> Lecture - January 10                     | <center> Discussion                    |   <center> Lab session\n",
    "|:----------------------------------------|:--------------------------------------:|:--------------------------------------:|\n",
    "| Review course outline <br>              |N/A                                     | N/A                                    |\n",
    "| Assign discussion topics for the term   | -                                      | -                                      |\n",
    "|-----------------------------------------------------------------------------|-----------------------------------------------------------------------------|-----------------------------------------------------------------------------|\n",
    "\n",
    "#####  <center> Topic #1: Energy system transitions </center>\n",
    "| <center> Date | <center> Lecture | <center> Discussion |  <center> Lab  |\n",
    "|:-----------------|:-----------------------|:-------------------------------------------|:------------------------------------|\n",
    "| Class 2 <br> January 17  | Historical transitions <br>   National transitions <br>    | Reading: [The Transition Accelerator](https://transitionaccelerator.ca/wp-content/uploads/2020/05/Transition-Accelerator_Building-Pathways-to-a-Sustainable-Future.pdf)  <br>  Student Choice on energy systems transitions – theory, historical example, etc.      | Computer Setup:   [Personal Computer Setup Instructions](Notebooks/Personal_Computer_Setup_Instruction.ipynb) <br> Follow up: [MESSAGEix set up](https://docs.messageix.org/projects/ixmp/en/stable/install.html#) <br> Follow up: brainstorm term project ideas |\n",
    "<br>    Class 3 <br> January 24  | Transition instigations/ motivations <br> The rate of energy system transitions  <br> |  (Brief) roundtable disucssion on project proposals  <br>  | Introduction to the MESSAGEix modelling framework and its components <br> Troubleshooting of the installation (Note: the installation is recommended to be done prior to the lab) <br>  Follow up: be able to execute each cell in [Basic introduction to the MESSAGEix IAM](Notebooks/MESSAGE_intro_1.ipynb)|\n",
    "\n",
    "\n",
    "#####  <center> Topic #2 – Energy systems modelling </center>\n",
    "|<center> Date |<center>Lecture | <center> Discussion|   <center> Lab |\n",
    "|:-------------|:---------------------|:--------------------------------------------|:---------------------------------------|\n",
    "|Class 4 <br> January 31 |Energy modelling: current & historical trends  <br> The current model landscape (including an introduction to IAMs)  <br> Historical perspectives on energy system modelling <br>  | Reading: [A review of computer tools for analysing the integration of renewable energy into various energy systems](https://www.sciencedirect.com/science/article/abs/pii/S0306261909004188) <br> Student choice on modelling tools for energy system analysis| Building a simple model of a coffee machine from scratch using MESSAGEix (step-by-step hands-on guide) <br> Discussing some main parameters/equations of the mathematical model <br>  Follow up: begin implementing project ideas   |\n",
    "|Class 5 <br> February 7|Modelling needs and next steps <br> Three paradigm shifts in energy systems modelling <br> Marginal versus transformational change <br>|Routable demos on project proposals | Understanding the MESSAGEix-GLOBIOM framework <br> Getting started with  [MESSAGE Canada](Notebooks/MESSAGEix_CANADA_baseline.ipynb) <br> Discussing term projects   <br>  Follow up: Prepare a preliminary demo of your project proposal for next class |\n",
    "\n",
    "    \n",
    " \n",
    " #####  <center> Topic #3 – Integrated assessment modelling </center>\n",
    "|<center> Date | <center> Lecture | <center> Discussion| <center> Lab|\n",
    "|:-------------|:-------------------------|:---------------------------------------|:---------------------------------------|\n",
    "|Class 6 <br> Feburary 14 | The global energy systems landscape and trends <br> Global energy models <br>   |Paper: [Evaluating integrated assessment models of global climate change](https://www.sciencedirect.com/science/article/abs/pii/S1364815213001965) <br>  Student choice: IAMs - either in general or a specific case study <br>  | One-on-one discussions on next steps <br> Introduction to [Scenario Explorer](Notebooks/Scenario_Explorer_Tutorial.ipynb) |  Energy systems integration <br> Global energy models <br>  |Roundtable demo on methodology and scenario design||\n",
    "|Class 7 <br> February  28 |  Energy systems integration <br> Global energy models <br>  |Roundtable demo on methodology and scenario design   | Self-directed: data collection and refining your scenario matrix|\n",
    "    \n",
    "\n",
    " #####  <center> Topic #4 – Path forward - Modelling needs and next steps </center>\n",
    "|<center> Date | <center> Lecture | <center>Discussion | <center> Lab |\n",
    "|:-------------|:--------------------------|:---------------------------------------|:---------------------------------------|\n",
    "|Class 8 <br> March 6 | Broader applications of IAMs and how these are used <br> Explore the results of IAMs from the IPCC AR6 report on Climate Mitigation <br> Global applications of IAMs   | Paper: [Energy systems modeling for twenty-first century energy challenges](https://www.sciencedirect.com/science/article/abs/pii/S1364032114000872) <br> Student choice: Model priorities for energy systems decarbonization analyses   | Self-directed: narrative development<br> |\n",
    "|Class 9 <br> March 13 | Explore the results of IAMs from the IPCC AR6 report on Climate Mitigation and see how they inform different narratives <br> | Roundtable demo on results | Independent work finalizing model\n",
    "\n",
    " #####  <center> Topic #5 – Policy and regulatory drivers </center>\n",
    "|<center> Date |<center> Lecture| <center> Discussion| <center> Lab|\n",
    "|:-------------|:--------------------------|:---------------------------------------|:---------------------------------------|\n",
    "|Class 10 <br> March 20 |Institutional landscape - global and Canadian <br> International climate agreements <br>   Canadian modelling landscape   <br>  |Reports: [EMI - Modelling relevance and value](https://emi-ime.ca/wp-content/uploads/2020/04/EMI-Modelling-Relevance-and-Value.pdf)  <br> [Energy Modelling Center - Long-term plan proposal](https://emi-ime.ca/wp-content/uploads/2020/04/EMI-Long-term-Proposal.pdf) <br>  Student choice: Comparison or review of another country's institutional                   | Self-directed: Model results analysis <br>|\n",
    "|Class 11 <br> March 27 | Wrap-up Lecture| None | Independent work: presentation & report|\n",
    "\n",
    "\n",
    "#####  <center> Class 12           ---- April 3 ----           Student presentations </center>\n"
   ]
  },
  {
   "cell_type": "markdown",
   "metadata": {},
   "source": [
    "####   [Marking Rubrics:](Notebooks/rubrics.ipynb)\n",
    "Each of the assessments listed below - exercise assessment, progress reports, and presentations - has a detailed rubric associated with it to give you clarity regarding our expectations. Please review these rubrics carefully. A good place to start with your project planning might be to populate your issue board with the items from the progress evaluation rubrics."
   ]
  },
  {
   "cell_type": "markdown",
   "metadata": {},
   "source": [
    "####  [Tips for kicking off a modelling project:](Notebooks/modelling_tips.ipynb)\n",
    "\n",
    "Kicking off a modelling project can be a daunting task - where to begin? how to scope a project that fits within a semester? how to make judgement calls about where to dive in and where to step back? We have assembled a few tips and tricks to help guide the way as you kick your modelling project off. \n"
   ]
  }
 ],
 "metadata": {
  "kernelspec": {
   "display_name": "Python 3 (ipykernel)",
   "language": "python",
   "name": "python3"
  },
  "language_info": {
   "codemirror_mode": {
    "name": "ipython",
    "version": 3
   },
   "file_extension": ".py",
   "mimetype": "text/x-python",
   "name": "python",
   "nbconvert_exporter": "python",
   "pygments_lexer": "ipython3",
   "version": "3.7.15"
  }
 },
 "nbformat": 4,
 "nbformat_minor": 2
}
