{
 "cells": [
  {
   "cell_type": "markdown",
   "id": "e8ab9551",
   "metadata": {},
   "source": [
    "The IPCC’s Assessment Reports (WG III on Mitigation and Climate Change) include outputs from an assortment of quantitative model-based scenarios. The most recent report (AR6) include scenarios include energy, emissions, and sectoral scenarios from national to global scales. The authors of IPCC AR6 compiled and assessed a scenario ensemble (including 3,131 scenarios from 188 unique modelling frameworks) and then collaborated with IIASA to create the Scenario Explorer and Database. The Scenario Explorer presents this ensemble of quantitative, model-based pathways that is made publicly available to ensure reproducibility and transparency.\n",
    "\n",
    "Further reading on the scenarios that we will be exploring in this exercise can be found in the IPCC AR6 Working Group 3 document: IPCC_AR6_WGIII_Chapter03 The chapter entitled ‘Mitigation Pathways Compatible with Long-term goals’ assesses emissions pathways (e.g., to understand which are consistent with emissions targets). The full Chapter 3 is accompanied by a Summary for Policy makers.\n",
    "\n",
    "In this demo, I will show you how to use the Scenario Explorer and Database to explore various dimensions of multicarrier energy systems in decarbonization pathways. After this demo, you should be ready to start exploring the Scenario Explorer for your chosen term project topic. In this demo, we will: \n",
    " - Navigate to the Scenario Explorer and register as a user\n",
    " - Watch tutorials to become familiar with the Scenario Explorer\n",
    " - Explore one of the workspaces to increase familiarity\n",
    " - Perform an analysis of one of the scenarios\n",
    "\n",
    "Step 1 - New user registration\n",
    " - In your browser, navigate to: https://software.ene.iiasa.ac.at/ixmp-server/tutorials.html\n",
    " - Watch the “New user registration” video and create a new account \n",
    " - After you log in, you’ll be taken to the main page which has a navigation panel (grey bar) at the top, and a list of existing workspaces below \n",
    "\n",
    "\n",
    "Step 2 – Overview of the Scenario Explorer functionality \n",
    " - Thankfully, IIASA has developed an excellent suite of tutorial videos that we will use to get us started\n",
    "\n",
    " - Watch the “How to create a simple figure” video https://software.ene.iiasa.ac.at/ixmp-server/tutorials.html\n",
    "\n",
    " - And the “Documentation features” video https://software.ene.iiasa.ac.at/ixmp-server/tutorials.html\n",
    "\n",
    "Step 3 – Exploring Workspace 22\n",
    " - We won’t be doing our own model runs or uploading results to the Scenario Explorer in this exercise\n",
    "  - Instead, we will explore one of the Workspaces that has already been created on the Scenario Explorer\n",
    "  - We will focus on the workspace entitled: Secondary Energy characteristics of the Illustrative Mitigation Pathways since it provides a good illustration of multi-carrier energy systems \n",
    " - You can find this workspace by either: (1) navigating to it from the AR6 landing page, or (2)  navigating to it with the following URL: https://data.ece.iiasa.ac.at/ar6/#/workspaces/22\n",
    " - Workspace 22 is focused on secondary energy characteristics of illustrative mitigation pathways. Secondary Energy is the energy that is produced after conversion from its Primary state (e.g., combustion of fossil fuels/biomass into heat and power, conversion of sun and wind into electricity). As such the variables that are represented in the figures include: electricity, heat, solid fuels, (coal, biomass), liquids (gasoline), gasses (natural gas, biogas, hydrogen)).\n",
    " - This workspace includes 9 scenarios; each are defined in various documents. Click on the “Show panel documentation” icon on the panel above the chart for links to the source documentation. There are two MESSAGEix scenarios.Each scenario has an associated ‘Category' which defines a different climate change mitigation pathway. These are emissions scenarios that have been translated into warming levels. \n",
    " \n",
    "Step 4 - Let’s try to glean some useful information about how multi-carrier energy systems might evolve in different mitigation scenarios. \n",
    "\n",
    " - Question for analysis: What is the role of different energy carriers (electricity, hydrogen, fossil fuels) in the future energy system mix?  And how are those shares impacted by the level of climate mitigation ambition?\n",
    "\n",
    "\n",
    "Step 5 – Analysis \n",
    "- The role of electricity: all scenarios regardless of the warming scenario, see an increase in electricity over time. There is a wide range of electricity production,  which increases over time, across the scenarios. The magnitude of electricity production is correlated with the climate category - the two lowest electricity production values have very climate targets C1 (limit to 1.5 degree) and C6 (limit to 3 degrees) and the highest production value is produced by a C3 scenario (limit to 2 degrees). Other (non-climate) factors (which we’ll return to later) such as socioeconomic, policy, and technology assumptions are likely driving the electricity production rates produced by these models \n",
    "\n",
    " - The role of hydrogen: hydrogen production increases in all scenarios, except high warming (C7 – limit to 4 degrees). Like electricity, there is a wide range in hydrogen production levels that is not correlated with warming categories. Hydrogen production increases the most when warming is limited to 1.5°C (C1), but also increases substantially in a scenario with 3°C warming (C6). Like electricity, non-climate factors such as socio-economic indicators and technology costs  are likely driving the amount of hydrogen that is being deployed. \n",
    "\n",
    " - The role of liquids: refined liquid fuels (from all energy sources, including oil products, synthetic fossil fuels from gas and coal, and biofuels)   decline over time in most climate scenarios, although there is a range in liquid production between the scenarios that is sensitive to climate warming targets. Five scenarios, which range from C1-C3 (1.5 -2 degrees limit) see a reduction in liquid based secondary energy production by 2100. Two scenarios, which are C3 (2 degrees) and C6 (3 degrees) remain at approximately current levels. One scenario that is C7 (4 degree limit) show and increase in liquid fuel production. The most significant declines occur primarily between 2030 and 2070\n",
    "\n",
    " - The role of gases: the role of gaseous fuels (including natural gas and biogas, not including hydrogen) depends on the scenario and climate category; gas declines (to near-zero) in 1-5-2 degree limit scenarios, or increases significantly in 4 degree limit scenarios. \n",
    "\n",
    "This simplified analysis only focused on climate categories and ignoring the other aspects of these scenarios such as: assumed policy landscape, shared socioeconomic pathway,technology evolution. However, we found that while the role of some secondary energy carriers (such as gas and liquids) is sensitive to the climate limits, the role of hydrogen and electricity is driven by non-climate factor\n",
    "A more robust analysis would analyze a suite of scenarios that systematically identify the impacts of different drivers/inputs on the outputs. "
   ]
  },
  {
   "cell_type": "markdown",
   "id": "8171020d",
   "metadata": {},
   "source": [
    "Extra notes:\n",
    "\n",
    "> A good place to look for the commonly used definitions of variables across all model intercomparison studies is here:\n",
    "    https://github.com/IAMconsortium/common-definitions/tree/main/definitions/variable/energy\n",
    "\n",
    "> For example, if you would like to know how Secondary Energy is defined, you can look in the folder here:\n",
    "https://github.com/IAMconsortium/common-definitions/blob/main/definitions/variable/energy/secondary-energy-non-electricity.yaml\n",
    "\n",
    "> Where you'll see: <br>\n",
    "    Secondary Energy|Gases: <br>\n",
    "    definition: Total production of gaseous fuels, including natural gas and biogas,not including hydrogen <br> \n",
    "    unit: EJ/yr <br>\n",
    "    \n",
    "\n",
    "  > Secondary Energy|Liquids: <br>\n",
    "    definition: Total production of refined liquid fuels from all energy sources, including oil products, synthetic fossil fuels from gas and coal, and biofuels <br>\n",
    "    unit: EJ/yr <br?\n",
    "\n",
    "\n"
   ]
  }
 ],
 "metadata": {
  "kernelspec": {
   "display_name": "Python [conda env:iams] *",
   "language": "python",
   "name": "conda-env-iams-py"
  },
  "language_info": {
   "codemirror_mode": {
    "name": "ipython",
    "version": 3
   },
   "file_extension": ".py",
   "mimetype": "text/x-python",
   "name": "python",
   "nbconvert_exporter": "python",
   "pygments_lexer": "ipython3",
   "version": "3.7.15"
  }
 },
 "nbformat": 4,
 "nbformat_minor": 5
}
