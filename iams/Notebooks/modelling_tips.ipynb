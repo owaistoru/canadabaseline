{
 "cells": [
  {
   "cell_type": "markdown",
   "metadata": {},
   "source": [
    "## Modelling tips:\n",
    "\n",
    "To help get you started, we have put together the following list of tips and suggestions on how to approach a coding project such as this. We encourage you to read through this list at the beginning of term, and perhaps even come back to it once or twice throughout the semester as you continually scope out your project. This list is constantly evolving - please let us know if you have any other suggestions!\n",
    "\n",
    "(1) Modelling is a highly iterative process: you don't quite know what questions your model will/won't be able to answer until you have a framework in mind; you don't quite know what your modelling framework will look like until you know what data you can/can't find; you don't know what data to look for until you know what questions you want to answer... and so it continues. Where to begin? Modelling is anything but a linear process. Unless you were very experienced and highly proficient, it would be nearly impossible to proceed through each step in the modelling process in a linear way. Instead, I recommend an iterative approach: \n",
    "  - explore the MESSAGEix modelling frameworks - what can it do and what can't it do?; \n",
    "  - brainstorm 2 or 3 questions that you think would be interesting and that seem like they might answerable using MESSAGEix; \n",
    "  - poke around for some data - what can you find and what can't you find (warning: data collection can turn into a rabbit hole); \n",
    "  - reframe your modelling framework and research question according to the new information; \n",
    "  - repeat. \n",
    "\n",
    "(2) Data collection is one of the critical challenges of most modelling exercises. Given the amount of time you have in this project (i.e. less than a term), I would advise you to not be too worried about finding the best data, especially at the start. Instead, get started by using simplified or dummy data to get your model up and running. Who knows; once you've taken your first few steps, you may find that you don't need all that detailed data you thought that you did!\n",
    "\n",
    "(3) Basically every python coding question that has ever been asked has been answered... on Stack Overflow! While the tutorials contain some of the basic information specifically on running the MESSAGEix platform, you will very likely run into an error or question that we have not covered in our course exercises. Copying and pasting the error that you receive into google, along with a few other key words like 'python 3' and the library name that is throwing an error is a great way to get started answering the question.\n",
    "\n",
    "(4) Don't be afraid of the command line! I know it looks like daunting machine text. But once you take the time to actually read the words, you'll notice that it often includes good insights into how to start debugging your issue."
   ]
  }
 ],
 "metadata": {
  "kernelspec": {
   "display_name": "Python 3 (ipykernel)",
   "language": "python",
   "name": "python3"
  },
  "language_info": {
   "codemirror_mode": {
    "name": "ipython",
    "version": 3
   },
   "file_extension": ".py",
   "mimetype": "text/x-python",
   "name": "python",
   "nbconvert_exporter": "python",
   "pygments_lexer": "ipython3",
   "version": "3.7.15"
  }
 },
 "nbformat": 4,
 "nbformat_minor": 2
}
