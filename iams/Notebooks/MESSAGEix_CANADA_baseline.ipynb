{
 "cells": [
  {
   "cell_type": "markdown",
   "metadata": {},
   "source": [
    "# MESSAGEix Canada\n",
    "\n",
    "Once we have gone through the `MESSAGE Introduction` notebook, we will now use a real case study for Canada. The data required for the model is compiled in the `data_CA.xlsx` file and we use python interface to solve it.\n",
    "\n"
   ]
  },
  {
   "cell_type": "markdown",
   "metadata": {},
   "source": [
    "## Initialize scenario"
   ]
  },
  {
   "cell_type": "code",
   "execution_count": 1,
   "metadata": {
    "scrolled": true
   },
   "outputs": [
    {
     "data": {
      "application/javascript": [
       "if (typeof IPython !== 'undefined') { IPython.OutputArea.prototype._should_scroll = function(lines){ return false; }}"
      ],
      "text/plain": [
       "<IPython.core.display.Javascript object>"
      ]
     },
     "metadata": {},
     "output_type": "display_data"
    }
   ],
   "source": [
    "import message_ix\n",
    "import ixmp as ix\n",
    "from ixmp import Scenario\n",
    "from message_ix import make_df\n",
    "#from functions.format_demand import format_demand\n",
    "import pandas as pd\n",
    "from pathlib import Path\n",
    "from message_ix.reporting import Reporter\n",
    "from update_units import unit_correction\n",
    "import numpy as np\n",
    "\n",
    "\n",
    "# Stand-alone model\n",
    "modelName = 'MESSAGEix_CA'      # A MESSAGE model name\n",
    "scenarioName = 'baseline'       # A MESSAGE model scenario name\n",
    "ssp = 'SSP1'\n",
    "\n",
    "mp = ix.Platform()\n",
    "\n",
    "# Creating a new MESSAGE stand-alone model\n",
    "msg = message_ix.Scenario(mp, modelName, scenarioName,\n",
    "                            version='new', annotation='')"
   ]
  },
  {
   "cell_type": "code",
   "execution_count": 2,
   "metadata": {},
   "outputs": [],
   "source": [
    "# Path to data & output folder\n",
    "DATA = Path().cwd()/ 'data'\n",
    "OUTPUT = Path().cwd()/ 'output'"
   ]
  },
  {
   "cell_type": "markdown",
   "metadata": {},
   "source": [
    "### Read model data"
   ]
  },
  {
   "cell_type": "code",
   "execution_count": null,
   "metadata": {},
   "outputs": [],
   "source": [
    "# Read in parameter data from previous MESSAGE run\n",
    "msg.read_excel(DATA / 'data_CA.xlsx', \n",
    "               add_units=True, \n",
    "               commit_steps=True,\n",
    "               init_items = True)"
   ]
  },
  {
   "cell_type": "markdown",
   "metadata": {},
   "source": [
    "## Solve model"
   ]
  },
  {
   "cell_type": "code",
   "execution_count": null,
   "metadata": {},
   "outputs": [],
   "source": [
    "msg.model\n",
    "msg.version\n",
    "\n",
    "\n",
    "# Exporting the built model (Scenario) to GAMS with an optional case name\n",
    "caseName = msg.model + '__' + msg.scenario + '__v' + str(msg.version)\n",
    "\n",
    "# Solving the model\n",
    "msg.solve(model='MESSAGE', case=caseName)"
   ]
  },
  {
   "cell_type": "markdown",
   "metadata": {},
   "source": [
    "## Fixing Units for parameters"
   ]
  },
  {
   "cell_type": "code",
   "execution_count": null,
   "metadata": {},
   "outputs": [],
   "source": [
    "#%% Generating \n",
    "\n",
    "unit_correct = True  # unit s must be corrected to run this script\n",
    "from_excel = False\n",
    "min_year = 2015\n",
    "max_year = 2060\n",
    "\n",
    "if unit_correct:\n",
    "    msg = msg.clone(keep_solution=False)\n",
    "    unit_correction(mp, msg)\n",
    "    caseName = msg.model + '__' + msg.scenario + '__v' + str(msg.version)\n",
    "    # Solving the model\n",
    "    msg.solve(model='MESSAGE', case=caseName, solve_options={'lpmethod': '4'})\n"
   ]
  },
  {
   "cell_type": "markdown",
   "metadata": {},
   "source": [
    "## Generating Report"
   ]
  },
  {
   "cell_type": "code",
   "execution_count": null,
   "metadata": {},
   "outputs": [],
   "source": [
    "\n",
    "rep = Reporter.from_scenario(msg)\n",
    "report = rep.get('message::default') # in fact, only in = input x ACT, out = output x ACT is needed\n"
   ]
  },
  {
   "cell_type": "markdown",
   "metadata": {},
   "source": [
    "## Adjusting Variable names with appropriate nomenclatures"
   ]
  },
  {
   "cell_type": "code",
   "execution_count": null,
   "metadata": {},
   "outputs": [],
   "source": [
    "report_df = report.timeseries()\n",
    "report_df.reset_index(inplace=True)\n",
    "report_df.columns = report_df.columns.astype(str)\n",
    "report_df.columns = report_df.columns.str.title()\n",
    "\n",
    "# Plotted years\n",
    "years = msg.set('year').tolist()\n",
    "years = [str(x) for x in years if x >= min_year and x <= max_year]\n",
    "\n",
    "# Create data for Sankey diagrams and plot it using plotly\n",
    "report_df.fillna(0, inplace = True)\n",
    "\n",
    "# Convert from GWa to TWh (*8.76)\n",
    "c = report_df.select_dtypes(include=[np.number]) * 8.76\n",
    "report_df[c.columns] = c\n",
    "\n",
    "# Drop not necessary years\n",
    "report_df.columns = report_df.columns.astype(str)\n",
    "report_df = report_df.drop(report_df.columns.to_series()['2020': str(min_year)],\n",
    "                        axis=1)\n",
    "\n",
    "# Identify input and output variables and its flows (provided within the Reporter: in = input x ACT, out = output x ACT)\n",
    "in_flows = report_df[report_df['Variable'].str.startswith(\"in|\")]\n",
    "out_flows = report_df[report_df['Variable'].str.startswith(\"out|\")]\n",
    "all_flows = pd.concat([out_flows, in_flows])\n",
    "\n",
    "report_df[\"Variable\"] = report_df[\"Variable\"].str.replace('emis', 'Emissions', regex = False)\n",
    "#report_df[\"Variable\"] = report_df[\"Variable\"].str.replace('in|final|', 'Final Energy|', regex = False)\n",
    "report_df[\"Variable\"] = report_df[\"Variable\"].str.replace('out|final|', 'Final Energy|', regex = False)\n",
    "#report_df[\"Variable\"] = report_df[\"Variable\"].str.replace('in|primary|', 'Primary Energy|', regex = False)\n",
    "report_df[\"Variable\"] = report_df[\"Variable\"].str.replace('out|primary|', 'Primary Energy|', regex = False)\n",
    "report_df[\"Variable\"] = report_df[\"Variable\"].str.replace('in|renewable|', 'Primary Energy|renewable|', regex = False)\n",
    "report_df[\"Variable\"] = report_df[\"Variable\"].str.replace('out|renewable|', 'Primary Energy|renewable|', regex = False)\n",
    "report_df[\"Variable\"] = report_df[\"Variable\"].str.replace('total om cost|', 'Total Costs|', regex = False)\n",
    "report_df[\"Variable\"] = report_df[\"Variable\"].str.replace('out|useful|', 'Useful Energy|', regex = False)\n",
    "report_df[\"Variable\"] = report_df[\"Variable\"].str.replace('in|useful|', 'Useful Energy|', regex = False)\n"
   ]
  },
  {
   "cell_type": "code",
   "execution_count": null,
   "metadata": {},
   "outputs": [],
   "source": [
    "report_df.to_csv(OUTPUT /'MESSAGE_CANADA_output.csv', index = False)"
   ]
  },
  {
   "cell_type": "markdown",
   "metadata": {},
   "source": [
    "## Assignments\n",
    "\n",
    "Hint: Follow the MESSAGEix tutorials [tutorials ](https://github.com/iiasa/message_ix/tree/main/tutorial/westeros)\n",
    "\n",
    "### 1. Plot the model results following the tutorial\n",
    "    a) What plots do you think could be useful\n",
    "    b) What do you understand from the current results \n",
    "    c) Does the results look pluasible, if not, what are the differences. (Use historical data to match the future results from the model)\n",
    "    \n",
    "### 2. Brainstrom on the possible scenarios of Candian energy transition \n",
    "    a) How can we translate the scenario from the baseline. Show an example. \n",
    "    b) How can we implement carbon tax in the canadian model\n",
    "    Hint: Look through Westeros_emission_taxes tutorial and translate into the Canadian landscape\n",
    "\n",
    "### 3. Understanding economic costs \n",
    "    a) What do you understand from the investment costs, fixed costs, variable costs in MESSAGE landscape. \n",
    "    b) How do you think the economic costs can help us understand the energy transition process. Give examples from the model. \n",
    "\n"
   ]
  },
  {
   "cell_type": "code",
   "execution_count": null,
   "metadata": {},
   "outputs": [],
   "source": [
    "mp.close_db()"
   ]
  }
 ],
 "metadata": {
  "kernelspec": {
   "display_name": "Python [conda env:iams] *",
   "language": "python",
   "name": "conda-env-iams-py"
  },
  "language_info": {
   "codemirror_mode": {
    "name": "ipython",
    "version": 3
   },
   "file_extension": ".py",
   "mimetype": "text/x-python",
   "name": "python",
   "nbconvert_exporter": "python",
   "pygments_lexer": "ipython3",
   "version": "3.7.12"
  },
  "vscode": {
   "interpreter": {
    "hash": "3d2a581db72ef3ce14822b57ea12418194fe3c016671cb8ea5ec62dd2b6df16c"
   }
  }
 },
 "nbformat": 4,
 "nbformat_minor": 4
}
