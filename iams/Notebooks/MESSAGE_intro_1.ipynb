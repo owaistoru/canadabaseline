{
 "cells": [
  {
   "cell_type": "markdown",
   "metadata": {},
   "source": [
    "### MESSAGE introduction\n",
    "Credit: This tutorial was developed by Oreane Edelenbosch (currently at the PBL Netherlands Environmental Assessment Agency) while she was a postdoctoral researcher at Politecnico di Milano.\n",
    "\n",
    "\n",
    "#### Optimization problems\n",
    "\n",
    "The core of MESSAGE, meaning its key relations and structure, is written in GAMS. This is a computer language that can easily solve optimization problems. In a optimization problem the optimal solution to an question should be found, such as what is the shortest distance from A to B. In energy system models often the model looks for a solution with the least energy system costs, under certain constraints. \n",
    "\n",
    "#### MESSAGE database\n",
    "The core of the MESSAGE model connects the energy flows from the resources to the energy use. For the conversion from one level to another level, technologies are needed. Technologies in MESSAGE are associated with a certain costs and efficiency. While this structure of MESSAGE is fixed and cannot be changed, the model only gets meaning if data is added. By adding data to the MESSAGE database the energy system is actually designed. This gives the model also the flexibility to represent many different energy systems. The database can be filled through specific equations that are written in python in jupyter notebooks. Therefore this document starts with some explanation of basic python, and then of the basic equations to add data to the MESSAGE model.\n",
    "\n"
   ]
  },
  {
   "cell_type": "markdown",
   "metadata": {},
   "source": [
    "### Basic python\n",
    "\n",
    "Like in any program language python makes use of strings and list which are important for any computation. A string is a sequence of characters, and a list is number of items in an ordered or unordered structure. In the code below the s has been assigned the string coal_ppl (coal power plant). The command \"print\" shows what \"s\" contains. You can excecute the following cell through the run command in jupyter notebook."
   ]
  },
  {
   "cell_type": "code",
   "execution_count": 3,
   "metadata": {},
   "outputs": [],
   "source": [
    "s = 'coal_ppl'"
   ]
  },
  {
   "cell_type": "code",
   "execution_count": 4,
   "metadata": {},
   "outputs": [
    {
     "name": "stdout",
     "output_type": "stream",
     "text": [
      "coal_ppl\n"
     ]
    }
   ],
   "source": [
    "print(s)"
   ]
  },
  {
   "cell_type": "markdown",
   "metadata": {},
   "source": [
    "Now we show an example of a list. t can for example be a list of technologies. Again \"print\" shows the content of \"t\"."
   ]
  },
  {
   "cell_type": "code",
   "execution_count": 5,
   "metadata": {},
   "outputs": [],
   "source": [
    "t = ['coal_ppl', 'gas_ppl', 'bio_ppl']"
   ]
  },
  {
   "cell_type": "code",
   "execution_count": 6,
   "metadata": {},
   "outputs": [
    {
     "name": "stdout",
     "output_type": "stream",
     "text": [
      "['coal_ppl', 'gas_ppl', 'bio_ppl']\n"
     ]
    }
   ],
   "source": [
    "print(t)"
   ]
  },
  {
   "cell_type": "markdown",
   "metadata": {},
   "source": [
    "After defining a list, you can refer to each element of the list, as follows:"
   ]
  },
  {
   "cell_type": "code",
   "execution_count": 7,
   "metadata": {},
   "outputs": [
    {
     "data": {
      "text/plain": [
       "'coal_ppl'"
      ]
     },
     "execution_count": 7,
     "metadata": {},
     "output_type": "execute_result"
    }
   ],
   "source": [
    "t[0]"
   ]
  },
  {
   "cell_type": "markdown",
   "metadata": {},
   "source": [
    "or its length:"
   ]
  },
  {
   "cell_type": "code",
   "execution_count": 8,
   "metadata": {},
   "outputs": [
    {
     "data": {
      "text/plain": [
       "3"
      ]
     },
     "execution_count": 8,
     "metadata": {},
     "output_type": "execute_result"
    }
   ],
   "source": [
    "len(t)"
   ]
  },
  {
   "cell_type": "markdown",
   "metadata": {},
   "source": [
    "A list can also be a set of numbers, with which you can make calculations:"
   ]
  },
  {
   "cell_type": "code",
   "execution_count": 9,
   "metadata": {},
   "outputs": [],
   "source": [
    "efficiency = [0.6, 0.5, 0.4]"
   ]
  },
  {
   "cell_type": "code",
   "execution_count": 10,
   "metadata": {},
   "outputs": [
    {
     "data": {
      "text/plain": [
       "0.7"
      ]
     },
     "execution_count": 10,
     "metadata": {},
     "output_type": "execute_result"
    }
   ],
   "source": [
    "efficiency[0]+0.1"
   ]
  },
  {
   "cell_type": "markdown",
   "metadata": {},
   "source": [
    "A sequence of numbers can be defined through the function range as well, which has the following syntax: range (start, stop, step)"
   ]
  },
  {
   "cell_type": "code",
   "execution_count": 13,
   "metadata": {},
   "outputs": [
    {
     "data": {
      "text/plain": [
       "2040"
      ]
     },
     "execution_count": 13,
     "metadata": {},
     "output_type": "execute_result"
    }
   ],
   "source": [
    "time =range(2010, 2050, 10)\n",
    "time[3]"
   ]
  },
  {
   "cell_type": "markdown",
   "metadata": {},
   "source": [
    "### Basic MESSAGE: filling the database"
   ]
  },
  {
   "cell_type": "markdown",
   "metadata": {},
   "source": [
    "Now we will start with loading data to the MESSAGE database, and as such create our own MESSAGE model. Once you have loaded the required packages and you have defined the model and scenario name it is time to load the database. Following the MESSAGE structure, the levels, technologies and commodities/energy flows need to all be filled in before you have a working structure. Lets start with a very simple model."
   ]
  },
  {
   "cell_type": "code",
   "execution_count": 14,
   "metadata": {},
   "outputs": [],
   "source": [
    "# load required packages \n",
    "import itertools\n",
    "import pandas as pd\n",
    "\n",
    "import matplotlib.pyplot as plt\n",
    "%matplotlib inline\n",
    "plt.style.use('ggplot')\n",
    "\n",
    "import ixmp as ix\n",
    "import message_ix\n",
    "\n",
    "from message_ix.utils import make_df"
   ]
  },
  {
   "cell_type": "code",
   "execution_count": 15,
   "metadata": {},
   "outputs": [],
   "source": [
    "# launch the IX modeling platform using the local default database                                                                                                                       \n",
    "#mp = ix.Platform(dbtype='HSQLDB')\n",
    "mp = ix.Platform()"
   ]
  },
  {
   "cell_type": "code",
   "execution_count": 16,
   "metadata": {},
   "outputs": [],
   "source": [
    "model = \"Simple model\"\n",
    "scen = \"baseline\"\n",
    "annot = \"testing the basic MESSAGE structure\" \n",
    "\n",
    "scenario = message_ix.Scenario(mp, model, scen, version='new', annotation=annot)"
   ]
  },
  {
   "cell_type": "markdown",
   "metadata": {},
   "source": [
    "First the framework of the model should be defined which includes its spatial scale, time horizon as well as the levels of the energy system considered. In this simple model we consider: \n",
    "<ul>\n",
    "<li>one country\n",
    "<li> the time horizon 2020 to 2030    \n",
    "<li>only electricty demand\n",
    "<li>three powerplant types. \n",
    "</ul>    \n",
    "If you type scenario. [+TAB] you will see which commands allow you to add data to the scenario. The key commands that we will use are: \n",
    "<ul>\n",
    "<li>scenario.add_horizon >> to define the time horizon</li>\n",
    "<li>scenario.add_spatial_sets >> to define the spatial boudaries\n",
    "<li>scenario.add_set >> to define sets of technologies and commodities\n",
    "<li>scenario.add_par >> to define key parameters\n",
    "</ul>\n",
    "What exactly the set and parameter definitions are can be found on: \n",
    "\n",
    "https://docs.messageix.org/en/stable/model/MESSAGE/sets_maps_def.html \n",
    "\n",
    "\n",
    "under mathematical specification. Here it is also specified which elements should be defined to correctly add these parameters and sets to the database. For example add horizon has as element 'year',see below. Similary, add_spatail_sets has as element 'country'. This defines the name of your region."
   ]
  },
  {
   "cell_type": "code",
   "execution_count": 17,
   "metadata": {},
   "outputs": [],
   "source": [
    "scenario.add_horizon({'year': [2020,2030]})"
   ]
  },
  {
   "cell_type": "code",
   "execution_count": 18,
   "metadata": {},
   "outputs": [],
   "source": [
    "scenario.add_spatial_sets({'country': 'Nijmegen'})"
   ]
  },
  {
   "cell_type": "markdown",
   "metadata": {},
   "source": [
    "In this case the only commodity is electricty, and we are looking at the secondary and final energy levels. The mode is something that in this simple model we are not working with but should be set to standard."
   ]
  },
  {
   "cell_type": "code",
   "execution_count": 19,
   "metadata": {},
   "outputs": [],
   "source": [
    "scenario.add_set(\"commodity\", [\"electricity\"])\n",
    "scenario.add_set(\"level\", [\"secondary\", \"final\"])\n",
    "scenario.add_set(\"mode\", \"standard\")"
   ]
  },
  {
   "cell_type": "markdown",
   "metadata": {},
   "source": [
    "The model starts with the demand that will have to be fulfilled. Therefore here we first will define the total electricity demand for the two year in our model. The demand parameter has several elements that need to be added, to be sure that all the connections in the model are set correctly. It is in this case also important to add the unit. To know which elements have to be added in order to define the demand, we can ask the database how the demand parameter looks like:"
   ]
  },
  {
   "cell_type": "code",
   "execution_count": 20,
   "metadata": {},
   "outputs": [
    {
     "data": {
      "text/html": [
       "<div>\n",
       "<style scoped>\n",
       "    .dataframe tbody tr th:only-of-type {\n",
       "        vertical-align: middle;\n",
       "    }\n",
       "\n",
       "    .dataframe tbody tr th {\n",
       "        vertical-align: top;\n",
       "    }\n",
       "\n",
       "    .dataframe thead th {\n",
       "        text-align: right;\n",
       "    }\n",
       "</style>\n",
       "<table border=\"1\" class=\"dataframe\">\n",
       "  <thead>\n",
       "    <tr style=\"text-align: right;\">\n",
       "      <th></th>\n",
       "      <th>node</th>\n",
       "      <th>commodity</th>\n",
       "      <th>level</th>\n",
       "      <th>year</th>\n",
       "      <th>time</th>\n",
       "      <th>value</th>\n",
       "      <th>unit</th>\n",
       "    </tr>\n",
       "  </thead>\n",
       "  <tbody>\n",
       "  </tbody>\n",
       "</table>\n",
       "</div>"
      ],
      "text/plain": [
       "Empty DataFrame\n",
       "Columns: [node, commodity, level, year, time, value, unit]\n",
       "Index: []"
      ]
     },
     "execution_count": 20,
     "metadata": {},
     "output_type": "execute_result"
    }
   ],
   "source": [
    "scenario.par(\"demand\")"
   ]
  },
  {
   "cell_type": "markdown",
   "metadata": {},
   "source": [
    "now the parameter can be filled with data:"
   ]
  },
  {
   "cell_type": "code",
   "execution_count": 21,
   "metadata": {},
   "outputs": [],
   "source": [
    "scenario.add_par(\"demand\", pd.DataFrame({\n",
    "        'node': 'Nijmegen',\n",
    "        'commodity': 'electricity',\n",
    "        'level': 'final',\n",
    "        'year': [2020,2030],\n",
    "        'time': 'year',\n",
    "        'value': [500, 600],\n",
    "        'unit': 'GWa',\n",
    "    }))"
   ]
  },
  {
   "cell_type": "markdown",
   "metadata": {},
   "source": [
    "To check whether the data has been read in correctly you can again ask the database how the demand variable looks like, in the exact same way as before. However now you should see the data filled in."
   ]
  },
  {
   "cell_type": "code",
   "execution_count": 22,
   "metadata": {},
   "outputs": [
    {
     "data": {
      "text/html": [
       "<div>\n",
       "<style scoped>\n",
       "    .dataframe tbody tr th:only-of-type {\n",
       "        vertical-align: middle;\n",
       "    }\n",
       "\n",
       "    .dataframe tbody tr th {\n",
       "        vertical-align: top;\n",
       "    }\n",
       "\n",
       "    .dataframe thead th {\n",
       "        text-align: right;\n",
       "    }\n",
       "</style>\n",
       "<table border=\"1\" class=\"dataframe\">\n",
       "  <thead>\n",
       "    <tr style=\"text-align: right;\">\n",
       "      <th></th>\n",
       "      <th>node</th>\n",
       "      <th>commodity</th>\n",
       "      <th>level</th>\n",
       "      <th>year</th>\n",
       "      <th>time</th>\n",
       "      <th>value</th>\n",
       "      <th>unit</th>\n",
       "    </tr>\n",
       "  </thead>\n",
       "  <tbody>\n",
       "    <tr>\n",
       "      <td>0</td>\n",
       "      <td>Nijmegen</td>\n",
       "      <td>electricity</td>\n",
       "      <td>final</td>\n",
       "      <td>2020</td>\n",
       "      <td>year</td>\n",
       "      <td>500.0</td>\n",
       "      <td>GWa</td>\n",
       "    </tr>\n",
       "    <tr>\n",
       "      <td>1</td>\n",
       "      <td>Nijmegen</td>\n",
       "      <td>electricity</td>\n",
       "      <td>final</td>\n",
       "      <td>2030</td>\n",
       "      <td>year</td>\n",
       "      <td>600.0</td>\n",
       "      <td>GWa</td>\n",
       "    </tr>\n",
       "  </tbody>\n",
       "</table>\n",
       "</div>"
      ],
      "text/plain": [
       "       node    commodity  level  year  time  value unit\n",
       "0  Nijmegen  electricity  final  2020  year  500.0  GWa\n",
       "1  Nijmegen  electricity  final  2030  year  600.0  GWa"
      ]
     },
     "execution_count": 22,
     "metadata": {},
     "output_type": "execute_result"
    }
   ],
   "source": [
    "scenario.par(\"demand\")"
   ]
  },
  {
   "cell_type": "markdown",
   "metadata": {},
   "source": [
    "Now that the model structure is set, we need to define the technologies that can convert the energy from secondary to final. In this case from either coal or gas to electricity. To define technologies, several parameters should be added to the database:\n",
    "\n",
    "#### Engineering Parameters\n",
    "\n",
    "- `input`\n",
    "- `output`\n",
    "- `technical_lifetime`\n",
    "- `capacity_factor`\n",
    "\n",
    "\n",
    "#### Technoeconomic Parameters\n",
    "\n",
    "- `inv_cost`\n",
    "- `fix_cost`\n",
    "- `var_cost`"
   ]
  },
  {
   "cell_type": "markdown",
   "metadata": {},
   "source": [
    "### Technologies"
   ]
  },
  {
   "cell_type": "code",
   "execution_count": 23,
   "metadata": {},
   "outputs": [],
   "source": [
    "scenario.add_set(\"technology\", [\"coal_ppl\", \"gas_ppl\"])"
   ]
  },
  {
   "cell_type": "markdown",
   "metadata": {},
   "source": [
    "#### Technoeconomic Parameters"
   ]
  },
  {
   "cell_type": "code",
   "execution_count": 24,
   "metadata": {},
   "outputs": [],
   "source": [
    "    scenario.add_par('inv_cost', pd.DataFrame({\n",
    "    'node_loc': \"Nijmegen\",\n",
    "    'year_vtg': [2020, 2030, 2020, 2030],\n",
    "    'unit': 'USD/GWa',\n",
    "    'technology': [\"coal_ppl\", \"coal_ppl\",\"gas_ppl\",\"gas_ppl\"],\n",
    "    'value': [1500*1e6,1500*1e6,870*1e6,870*1e6]\n",
    "}))"
   ]
  },
  {
   "cell_type": "code",
   "execution_count": 25,
   "metadata": {},
   "outputs": [
    {
     "data": {
      "text/html": [
       "<div>\n",
       "<style scoped>\n",
       "    .dataframe tbody tr th:only-of-type {\n",
       "        vertical-align: middle;\n",
       "    }\n",
       "\n",
       "    .dataframe tbody tr th {\n",
       "        vertical-align: top;\n",
       "    }\n",
       "\n",
       "    .dataframe thead th {\n",
       "        text-align: right;\n",
       "    }\n",
       "</style>\n",
       "<table border=\"1\" class=\"dataframe\">\n",
       "  <thead>\n",
       "    <tr style=\"text-align: right;\">\n",
       "      <th></th>\n",
       "      <th>node_loc</th>\n",
       "      <th>technology</th>\n",
       "      <th>year_vtg</th>\n",
       "      <th>value</th>\n",
       "      <th>unit</th>\n",
       "    </tr>\n",
       "  </thead>\n",
       "  <tbody>\n",
       "    <tr>\n",
       "      <td>0</td>\n",
       "      <td>Nijmegen</td>\n",
       "      <td>coal_ppl</td>\n",
       "      <td>2020</td>\n",
       "      <td>1.500000e+09</td>\n",
       "      <td>USD/GWa</td>\n",
       "    </tr>\n",
       "    <tr>\n",
       "      <td>1</td>\n",
       "      <td>Nijmegen</td>\n",
       "      <td>coal_ppl</td>\n",
       "      <td>2030</td>\n",
       "      <td>1.500000e+09</td>\n",
       "      <td>USD/GWa</td>\n",
       "    </tr>\n",
       "    <tr>\n",
       "      <td>2</td>\n",
       "      <td>Nijmegen</td>\n",
       "      <td>gas_ppl</td>\n",
       "      <td>2020</td>\n",
       "      <td>8.700000e+08</td>\n",
       "      <td>USD/GWa</td>\n",
       "    </tr>\n",
       "    <tr>\n",
       "      <td>3</td>\n",
       "      <td>Nijmegen</td>\n",
       "      <td>gas_ppl</td>\n",
       "      <td>2030</td>\n",
       "      <td>8.700000e+08</td>\n",
       "      <td>USD/GWa</td>\n",
       "    </tr>\n",
       "  </tbody>\n",
       "</table>\n",
       "</div>"
      ],
      "text/plain": [
       "   node_loc technology  year_vtg         value     unit\n",
       "0  Nijmegen   coal_ppl      2020  1.500000e+09  USD/GWa\n",
       "1  Nijmegen   coal_ppl      2030  1.500000e+09  USD/GWa\n",
       "2  Nijmegen    gas_ppl      2020  8.700000e+08  USD/GWa\n",
       "3  Nijmegen    gas_ppl      2030  8.700000e+08  USD/GWa"
      ]
     },
     "execution_count": 25,
     "metadata": {},
     "output_type": "execute_result"
    }
   ],
   "source": [
    "scenario.par(\"inv_cost\")"
   ]
  },
  {
   "cell_type": "code",
   "execution_count": 26,
   "metadata": {},
   "outputs": [],
   "source": [
    "    scenario.add_par('fix_cost', pd.DataFrame({\n",
    "    'node_loc': \"Nijmegen\",\n",
    "    'year_vtg': [2020, 2020, 2030,2020, 2020, 2030],\n",
    "    'year_act': [2020, 2030, 2030,2020, 2020, 2030],\n",
    "    'unit': 'USD/GWa',\n",
    "    'technology': [\"coal_ppl\", \"coal_ppl\",\"coal_ppl\",\"gas_ppl\",\"gas_ppl\",\"gas_ppl\"],\n",
    "    'value': [40,40,40,25,25,25]\n",
    "}))"
   ]
  },
  {
   "cell_type": "code",
   "execution_count": 27,
   "metadata": {},
   "outputs": [],
   "source": [
    "    scenario.add_par('var_cost', pd.DataFrame({\n",
    "    'node_loc': \"Nijmegen\",\n",
    "    'year_vtg': [2020, 2020, 2030,2020, 2020, 2030],\n",
    "    'year_act': [2020, 2030, 2030,2020, 2020, 2030],\n",
    "    'mode':'standard',\n",
    "    'unit': 'USD/GWa',\n",
    "    'time':'year',\n",
    "    'technology': [\"coal_ppl\", \"coal_ppl\",\"coal_ppl\",\"gas_ppl\",\"gas_ppl\",\"gas_ppl\"],\n",
    "    'value': [22.4,22.4,22.4,42.4,42.4,42.4]\n",
    "}))"
   ]
  },
  {
   "cell_type": "code",
   "execution_count": 36,
   "metadata": {},
   "outputs": [
    {
     "data": {
      "text/html": [
       "<div>\n",
       "<style scoped>\n",
       "    .dataframe tbody tr th:only-of-type {\n",
       "        vertical-align: middle;\n",
       "    }\n",
       "\n",
       "    .dataframe tbody tr th {\n",
       "        vertical-align: top;\n",
       "    }\n",
       "\n",
       "    .dataframe thead th {\n",
       "        text-align: right;\n",
       "    }\n",
       "</style>\n",
       "<table border=\"1\" class=\"dataframe\">\n",
       "  <thead>\n",
       "    <tr style=\"text-align: right;\">\n",
       "      <th></th>\n",
       "      <th>node_loc</th>\n",
       "      <th>technology</th>\n",
       "      <th>year_vtg</th>\n",
       "      <th>year_act</th>\n",
       "      <th>value</th>\n",
       "      <th>unit</th>\n",
       "    </tr>\n",
       "  </thead>\n",
       "  <tbody>\n",
       "    <tr>\n",
       "      <td>0</td>\n",
       "      <td>Nijmegen</td>\n",
       "      <td>coal_ppl</td>\n",
       "      <td>2020</td>\n",
       "      <td>2020</td>\n",
       "      <td>40.0</td>\n",
       "      <td>USD/GWa</td>\n",
       "    </tr>\n",
       "    <tr>\n",
       "      <td>1</td>\n",
       "      <td>Nijmegen</td>\n",
       "      <td>coal_ppl</td>\n",
       "      <td>2020</td>\n",
       "      <td>2030</td>\n",
       "      <td>40.0</td>\n",
       "      <td>USD/GWa</td>\n",
       "    </tr>\n",
       "    <tr>\n",
       "      <td>2</td>\n",
       "      <td>Nijmegen</td>\n",
       "      <td>coal_ppl</td>\n",
       "      <td>2030</td>\n",
       "      <td>2030</td>\n",
       "      <td>40.0</td>\n",
       "      <td>USD/GWa</td>\n",
       "    </tr>\n",
       "    <tr>\n",
       "      <td>3</td>\n",
       "      <td>Nijmegen</td>\n",
       "      <td>gas_ppl</td>\n",
       "      <td>2020</td>\n",
       "      <td>2020</td>\n",
       "      <td>25.0</td>\n",
       "      <td>USD/GWa</td>\n",
       "    </tr>\n",
       "    <tr>\n",
       "      <td>4</td>\n",
       "      <td>Nijmegen</td>\n",
       "      <td>gas_ppl</td>\n",
       "      <td>2030</td>\n",
       "      <td>2030</td>\n",
       "      <td>25.0</td>\n",
       "      <td>USD/GWa</td>\n",
       "    </tr>\n",
       "  </tbody>\n",
       "</table>\n",
       "</div>"
      ],
      "text/plain": [
       "   node_loc technology  year_vtg  year_act  value     unit\n",
       "0  Nijmegen   coal_ppl      2020      2020   40.0  USD/GWa\n",
       "1  Nijmegen   coal_ppl      2020      2030   40.0  USD/GWa\n",
       "2  Nijmegen   coal_ppl      2030      2030   40.0  USD/GWa\n",
       "3  Nijmegen    gas_ppl      2020      2020   25.0  USD/GWa\n",
       "4  Nijmegen    gas_ppl      2030      2030   25.0  USD/GWa"
      ]
     },
     "execution_count": 36,
     "metadata": {},
     "output_type": "execute_result"
    }
   ],
   "source": [
    "scenario.par('inv_cost')\n"
   ]
  },
  {
   "cell_type": "code",
   "execution_count": 37,
   "metadata": {},
   "outputs": [
    {
     "data": {
      "text/html": [
       "<div>\n",
       "<style scoped>\n",
       "    .dataframe tbody tr th:only-of-type {\n",
       "        vertical-align: middle;\n",
       "    }\n",
       "\n",
       "    .dataframe tbody tr th {\n",
       "        vertical-align: top;\n",
       "    }\n",
       "\n",
       "    .dataframe thead th {\n",
       "        text-align: right;\n",
       "    }\n",
       "</style>\n",
       "<table border=\"1\" class=\"dataframe\">\n",
       "  <thead>\n",
       "    <tr style=\"text-align: right;\">\n",
       "      <th></th>\n",
       "      <th>node_loc</th>\n",
       "      <th>technology</th>\n",
       "      <th>year_vtg</th>\n",
       "      <th>year_act</th>\n",
       "      <th>value</th>\n",
       "      <th>unit</th>\n",
       "    </tr>\n",
       "  </thead>\n",
       "  <tbody>\n",
       "    <tr>\n",
       "      <td>0</td>\n",
       "      <td>Nijmegen</td>\n",
       "      <td>coal_ppl</td>\n",
       "      <td>2020</td>\n",
       "      <td>2020</td>\n",
       "      <td>40.0</td>\n",
       "      <td>USD/GWa</td>\n",
       "    </tr>\n",
       "    <tr>\n",
       "      <td>1</td>\n",
       "      <td>Nijmegen</td>\n",
       "      <td>coal_ppl</td>\n",
       "      <td>2020</td>\n",
       "      <td>2030</td>\n",
       "      <td>40.0</td>\n",
       "      <td>USD/GWa</td>\n",
       "    </tr>\n",
       "    <tr>\n",
       "      <td>2</td>\n",
       "      <td>Nijmegen</td>\n",
       "      <td>coal_ppl</td>\n",
       "      <td>2030</td>\n",
       "      <td>2030</td>\n",
       "      <td>40.0</td>\n",
       "      <td>USD/GWa</td>\n",
       "    </tr>\n",
       "    <tr>\n",
       "      <td>3</td>\n",
       "      <td>Nijmegen</td>\n",
       "      <td>gas_ppl</td>\n",
       "      <td>2020</td>\n",
       "      <td>2020</td>\n",
       "      <td>25.0</td>\n",
       "      <td>USD/GWa</td>\n",
       "    </tr>\n",
       "    <tr>\n",
       "      <td>4</td>\n",
       "      <td>Nijmegen</td>\n",
       "      <td>gas_ppl</td>\n",
       "      <td>2030</td>\n",
       "      <td>2030</td>\n",
       "      <td>25.0</td>\n",
       "      <td>USD/GWa</td>\n",
       "    </tr>\n",
       "  </tbody>\n",
       "</table>\n",
       "</div>"
      ],
      "text/plain": [
       "   node_loc technology  year_vtg  year_act  value     unit\n",
       "0  Nijmegen   coal_ppl      2020      2020   40.0  USD/GWa\n",
       "1  Nijmegen   coal_ppl      2020      2030   40.0  USD/GWa\n",
       "2  Nijmegen   coal_ppl      2030      2030   40.0  USD/GWa\n",
       "3  Nijmegen    gas_ppl      2020      2020   25.0  USD/GWa\n",
       "4  Nijmegen    gas_ppl      2030      2030   25.0  USD/GWa"
      ]
     },
     "execution_count": 37,
     "metadata": {},
     "output_type": "execute_result"
    }
   ],
   "source": [
    "scenario.par('fix_cost')"
   ]
  },
  {
   "cell_type": "code",
   "execution_count": 38,
   "metadata": {},
   "outputs": [
    {
     "data": {
      "text/html": [
       "<div>\n",
       "<style scoped>\n",
       "    .dataframe tbody tr th:only-of-type {\n",
       "        vertical-align: middle;\n",
       "    }\n",
       "\n",
       "    .dataframe tbody tr th {\n",
       "        vertical-align: top;\n",
       "    }\n",
       "\n",
       "    .dataframe thead th {\n",
       "        text-align: right;\n",
       "    }\n",
       "</style>\n",
       "<table border=\"1\" class=\"dataframe\">\n",
       "  <thead>\n",
       "    <tr style=\"text-align: right;\">\n",
       "      <th></th>\n",
       "      <th>node_loc</th>\n",
       "      <th>technology</th>\n",
       "      <th>year_vtg</th>\n",
       "      <th>year_act</th>\n",
       "      <th>mode</th>\n",
       "      <th>time</th>\n",
       "      <th>value</th>\n",
       "      <th>unit</th>\n",
       "    </tr>\n",
       "  </thead>\n",
       "  <tbody>\n",
       "    <tr>\n",
       "      <td>0</td>\n",
       "      <td>Nijmegen</td>\n",
       "      <td>coal_ppl</td>\n",
       "      <td>2020</td>\n",
       "      <td>2020</td>\n",
       "      <td>standard</td>\n",
       "      <td>year</td>\n",
       "      <td>22.4</td>\n",
       "      <td>USD/GWa</td>\n",
       "    </tr>\n",
       "    <tr>\n",
       "      <td>1</td>\n",
       "      <td>Nijmegen</td>\n",
       "      <td>coal_ppl</td>\n",
       "      <td>2020</td>\n",
       "      <td>2030</td>\n",
       "      <td>standard</td>\n",
       "      <td>year</td>\n",
       "      <td>22.4</td>\n",
       "      <td>USD/GWa</td>\n",
       "    </tr>\n",
       "    <tr>\n",
       "      <td>2</td>\n",
       "      <td>Nijmegen</td>\n",
       "      <td>coal_ppl</td>\n",
       "      <td>2030</td>\n",
       "      <td>2030</td>\n",
       "      <td>standard</td>\n",
       "      <td>year</td>\n",
       "      <td>22.4</td>\n",
       "      <td>USD/GWa</td>\n",
       "    </tr>\n",
       "    <tr>\n",
       "      <td>3</td>\n",
       "      <td>Nijmegen</td>\n",
       "      <td>gas_ppl</td>\n",
       "      <td>2020</td>\n",
       "      <td>2020</td>\n",
       "      <td>standard</td>\n",
       "      <td>year</td>\n",
       "      <td>42.4</td>\n",
       "      <td>USD/GWa</td>\n",
       "    </tr>\n",
       "    <tr>\n",
       "      <td>4</td>\n",
       "      <td>Nijmegen</td>\n",
       "      <td>gas_ppl</td>\n",
       "      <td>2030</td>\n",
       "      <td>2030</td>\n",
       "      <td>standard</td>\n",
       "      <td>year</td>\n",
       "      <td>42.4</td>\n",
       "      <td>USD/GWa</td>\n",
       "    </tr>\n",
       "  </tbody>\n",
       "</table>\n",
       "</div>"
      ],
      "text/plain": [
       "   node_loc technology  year_vtg  year_act      mode  time  value     unit\n",
       "0  Nijmegen   coal_ppl      2020      2020  standard  year   22.4  USD/GWa\n",
       "1  Nijmegen   coal_ppl      2020      2030  standard  year   22.4  USD/GWa\n",
       "2  Nijmegen   coal_ppl      2030      2030  standard  year   22.4  USD/GWa\n",
       "3  Nijmegen    gas_ppl      2020      2020  standard  year   42.4  USD/GWa\n",
       "4  Nijmegen    gas_ppl      2030      2030  standard  year   42.4  USD/GWa"
      ]
     },
     "execution_count": 38,
     "metadata": {},
     "output_type": "execute_result"
    }
   ],
   "source": [
    "scenario.par('var_cost')"
   ]
  },
  {
   "cell_type": "markdown",
   "metadata": {},
   "source": [
    "#### Engineering parameters: efficiency\n",
    "Efficiency in MESSAGE is defined by input and output at each level. This model covers the secondary to final level. Therefore is only the output of the power plants."
   ]
  },
  {
   "cell_type": "code",
   "execution_count": 39,
   "metadata": {},
   "outputs": [],
   "source": [
    "base_output = pd.DataFrame(dict({\n",
    "    'node_loc': \"Nijmegen\",\n",
    "    'year_vtg': [2020, 2020, 2030,2020, 2020, 2030],\n",
    "    'year_act': [2020, 2030, 2030,2020, 2020, 2030],\n",
    "    'mode': 'standard',\n",
    "    'node_origin': \"Nijmegen\",\n",
    "    'commodity': 'electricity',\n",
    "    'time': 'year',\n",
    "    'time_origin': 'year',\n",
    "    'technology':[\"coal_ppl\", \"coal_ppl\", \"coal_ppl\", \"gas_ppl\",\"gas_ppl\",\"gas_ppl\"],\n",
    "    'level' :'final',\n",
    "    'value' : [1.0, 1.0, 1.0, 1.0, 1.0, 1.0],\n",
    "    'node_dest': \"Nijmegen\",\n",
    "    'time_dest':'year',\n",
    "    'unit' : '%'}))\n",
    "scenario.add_par(\"output\", base_output)"
   ]
  },
  {
   "cell_type": "markdown",
   "metadata": {},
   "source": [
    "#### Engineering parameters: Capacity factor and lifetime"
   ]
  },
  {
   "cell_type": "code",
   "execution_count": 40,
   "metadata": {},
   "outputs": [],
   "source": [
    "base_capacity_factor = pd.DataFrame(dict({\n",
    "    'node_loc': \"Nijmegen\",\n",
    "    'year_vtg': [2020, 2020, 2030,2020, 2020, 2030],\n",
    "    'year_act': [2020, 2030, 2030,2020, 2020, 2030],\n",
    "    'time': 'year',\n",
    "    'unit': '%',\n",
    "    'technology' :[\"coal_ppl\", \"coal_ppl\", \"coal_ppl\", \"gas_ppl\",\"gas_ppl\",\"gas_ppl\"],\n",
    "    'value': [0.85, 0.85, 0.85, 0.75, 0.75, 0.75],\n",
    "}))\n",
    "scenario.add_par('capacity_factor', base_capacity_factor)"
   ]
  },
  {
   "cell_type": "code",
   "execution_count": 41,
   "metadata": {},
   "outputs": [],
   "source": [
    "base_technical_lifetime = pd.DataFrame(dict({\n",
    "    'node_loc': \"Nijmegen\",\n",
    "    'year_vtg': [2020,2030,2020,2030],\n",
    "    'unit': 'y',\n",
    "    'technology' : [\"coal_ppl\", \"coal_ppl\",\"gas_ppl\",\"gas_ppl\"],\n",
    "    'value': [40, 40, 30, 30],\n",
    "})) \n",
    "\n",
    "scenario.add_par('technical_lifetime', base_technical_lifetime)"
   ]
  },
  {
   "cell_type": "markdown",
   "metadata": {},
   "source": [
    "### Base year activity and capacity\n",
    "Finally we need to give the model a starting point. How much activity and capacity was available in 2020 should be defined. Moreover, growth contraints are added set the maximum technology growth."
   ]
  },
  {
   "cell_type": "code",
   "execution_count": 42,
   "metadata": {},
   "outputs": [],
   "source": [
    "base_activity = pd.DataFrame(dict({\n",
    "    'node_loc': \"Nijmegen\",\n",
    "    'year_act': [2020,2020],\n",
    "    'mode': 'standard',\n",
    "    'time': 'year',\n",
    "    'unit': 'GWa',\n",
    "    'technology': ['coal_ppl', 'gas_ppl'],\n",
    "    'value': [700, 500]\n",
    "}))\n",
    "\n",
    "scenario.add_par('bound_activity_up', base_activity)\n",
    "scenario.add_par('bound_activity_lo', base_activity)"
   ]
  },
  {
   "cell_type": "code",
   "execution_count": 43,
   "metadata": {},
   "outputs": [],
   "source": [
    "base_growth = pd.DataFrame(dict({\n",
    "    'node_loc': \"Nijmegen\",\n",
    "    'year_act': [2020,2020],\n",
    "    'value': [0.05,0.05],\n",
    "    'time': 'year',\n",
    "    'unit': '%',\n",
    "    'technology': ['coal_ppl', 'gas_ppl']}))\n",
    "    \n",
    "\n",
    "scenario.add_par('growth_activity_up', base_growth)"
   ]
  },
  {
   "cell_type": "code",
   "execution_count": 44,
   "metadata": {},
   "outputs": [],
   "source": [
    "base_capacity = pd.DataFrame(dict({\n",
    "    'node_loc': \"Nijmegen\",\n",
    "    'year_vtg': [2020,2020],\n",
    "    'unit': 'GWa',\n",
    "    'technology': ['coal_ppl','gas_ppl'],\n",
    "    'value': [700/0.85, 500/0.75]\n",
    "}))\n",
    "\n",
    "\n",
    "scenario.add_par('bound_new_capacity_up', base_capacity)"
   ]
  },
  {
   "cell_type": "code",
   "execution_count": 45,
   "metadata": {},
   "outputs": [],
   "source": [
    "base_initial = pd.DataFrame(dict({\n",
    "    'node_loc': \"Nijmegen\",\n",
    "    'year_act': [2020,2020],\n",
    "    'time': 'year',\n",
    "    'unit': '%',\n",
    "    'technology':['coal_ppl','gas_ppl'],\n",
    "    'value': [700,500]\n",
    "}))\n",
    "\n",
    "scenario.add_par('initial_activity_up', base_initial)"
   ]
  },
  {
   "cell_type": "markdown",
   "metadata": {},
   "source": [
    "The data collection is now finished. Next step is to send the data to the model and run."
   ]
  },
  {
   "cell_type": "code",
   "execution_count": 46,
   "metadata": {},
   "outputs": [],
   "source": [
    "comment = 'initial commit for simple model'\n",
    "scenario.commit(comment)\n",
    "scenario.set_as_default()"
   ]
  },
  {
   "cell_type": "code",
   "execution_count": 47,
   "metadata": {},
   "outputs": [],
   "source": [
    "scenario.solve()"
   ]
  },
  {
   "cell_type": "markdown",
   "metadata": {},
   "source": [
    "### Now we want to visualise the results"
   ]
  },
  {
   "cell_type": "markdown",
   "metadata": {},
   "source": [
    "This tutorial contains come predefined equations to visualise the model outcomes for capacity and activity."
   ]
  },
  {
   "cell_type": "code",
   "execution_count": 48,
   "metadata": {},
   "outputs": [],
   "source": [
    "from __future__ import division\n",
    "import itertools\n",
    "import pandas as pd\n",
    "import matplotlib.pyplot as plt"
   ]
  },
  {
   "cell_type": "code",
   "execution_count": 49,
   "metadata": {},
   "outputs": [],
   "source": [
    "from tools import Plots\n",
    "#import Plots\n",
    "#import tools"
   ]
  },
  {
   "cell_type": "code",
   "execution_count": 50,
   "metadata": {},
   "outputs": [],
   "source": [
    "p = Plots(scenario, \"Nijmegen\")"
   ]
  },
  {
   "cell_type": "code",
   "execution_count": 51,
   "metadata": {},
   "outputs": [
    {
     "data": {
      "image/png": "[encoded data removed]",
      "text/plain": [
       "<Figure size 432x288 with 1 Axes>"
      ]
     },
     "metadata": {
      "needs_background": "light"
     },
     "output_type": "display_data"
    }
   ],
   "source": [
    "p.plot_new_capacity(baseyear=True)"
   ]
  },
  {
   "cell_type": "code",
   "execution_count": 52,
   "metadata": {},
   "outputs": [
    {
     "data": {
      "image/png": "[encoded data removed]",
      "text/plain": [
       "<Figure size 432x288 with 1 Axes>"
      ]
     },
     "metadata": {
      "needs_background": "light"
     },
     "output_type": "display_data"
    }
   ],
   "source": [
    "p.plot_capacity(baseyear=True)"
   ]
  },
  {
   "cell_type": "code",
   "execution_count": 53,
   "metadata": {},
   "outputs": [
    {
     "data": {
      "image/png": "[encoded data removed]",
      "text/plain": [
       "<Figure size 432x288 with 1 Axes>"
      ]
     },
     "metadata": {
      "needs_background": "light"
     },
     "output_type": "display_data"
    }
   ],
   "source": [
    "p.plot_activity(baseyear=True)"
   ]
  },
  {
   "cell_type": "markdown",
   "metadata": {},
   "source": [
    "but the actual data can also be visualised through the tables, in a simalar way as was done for the inputs (see below). To see which variables can all be shown use first the following command."
   ]
  },
  {
   "cell_type": "code",
   "execution_count": 54,
   "metadata": {},
   "outputs": [
    {
     "data": {
      "text/plain": [
       "['OBJ',\n",
       " 'EXT',\n",
       " 'STOCK',\n",
       " 'CAP_NEW',\n",
       " 'CAP',\n",
       " 'ACT',\n",
       " 'EMISS',\n",
       " 'LAND',\n",
       " 'REL',\n",
       " 'DEMAND',\n",
       " 'PRICE_COMMODITY',\n",
       " 'PRICE_EMISSION',\n",
       " 'COST_NODAL',\n",
       " 'COST_NODAL_NET',\n",
       " 'GDP',\n",
       " 'I',\n",
       " 'C']"
      ]
     },
     "execution_count": 54,
     "metadata": {},
     "output_type": "execute_result"
    }
   ],
   "source": [
    "scenario.var_list()"
   ]
  },
  {
   "cell_type": "code",
   "execution_count": 55,
   "metadata": {},
   "outputs": [
    {
     "data": {
      "text/html": [
       "<div>\n",
       "<style scoped>\n",
       "    .dataframe tbody tr th:only-of-type {\n",
       "        vertical-align: middle;\n",
       "    }\n",
       "\n",
       "    .dataframe tbody tr th {\n",
       "        vertical-align: top;\n",
       "    }\n",
       "\n",
       "    .dataframe thead th {\n",
       "        text-align: right;\n",
       "    }\n",
       "</style>\n",
       "<table border=\"1\" class=\"dataframe\">\n",
       "  <thead>\n",
       "    <tr style=\"text-align: right;\">\n",
       "      <th></th>\n",
       "      <th>node_loc</th>\n",
       "      <th>technology</th>\n",
       "      <th>year_vtg</th>\n",
       "      <th>lvl</th>\n",
       "      <th>mrg</th>\n",
       "    </tr>\n",
       "  </thead>\n",
       "  <tbody>\n",
       "    <tr>\n",
       "      <td>0</td>\n",
       "      <td>Nijmegen</td>\n",
       "      <td>coal_ppl</td>\n",
       "      <td>2020</td>\n",
       "      <td>82.352941</td>\n",
       "      <td>0.0</td>\n",
       "    </tr>\n",
       "    <tr>\n",
       "      <td>1</td>\n",
       "      <td>Nijmegen</td>\n",
       "      <td>coal_ppl</td>\n",
       "      <td>2030</td>\n",
       "      <td>0.000000</td>\n",
       "      <td>0.0</td>\n",
       "    </tr>\n",
       "    <tr>\n",
       "      <td>2</td>\n",
       "      <td>Nijmegen</td>\n",
       "      <td>gas_ppl</td>\n",
       "      <td>2020</td>\n",
       "      <td>66.666667</td>\n",
       "      <td>0.0</td>\n",
       "    </tr>\n",
       "    <tr>\n",
       "      <td>3</td>\n",
       "      <td>Nijmegen</td>\n",
       "      <td>gas_ppl</td>\n",
       "      <td>2030</td>\n",
       "      <td>0.000000</td>\n",
       "      <td>0.0</td>\n",
       "    </tr>\n",
       "  </tbody>\n",
       "</table>\n",
       "</div>"
      ],
      "text/plain": [
       "   node_loc technology  year_vtg        lvl  mrg\n",
       "0  Nijmegen   coal_ppl      2020  82.352941  0.0\n",
       "1  Nijmegen   coal_ppl      2030   0.000000  0.0\n",
       "2  Nijmegen    gas_ppl      2020  66.666667  0.0\n",
       "3  Nijmegen    gas_ppl      2030   0.000000  0.0"
      ]
     },
     "execution_count": 55,
     "metadata": {},
     "output_type": "execute_result"
    }
   ],
   "source": [
    "scenario.var('CAP_NEW')"
   ]
  },
  {
   "cell_type": "code",
   "execution_count": 56,
   "metadata": {},
   "outputs": [
    {
     "data": {
      "text/html": [
       "<div>\n",
       "<style scoped>\n",
       "    .dataframe tbody tr th:only-of-type {\n",
       "        vertical-align: middle;\n",
       "    }\n",
       "\n",
       "    .dataframe tbody tr th {\n",
       "        vertical-align: top;\n",
       "    }\n",
       "\n",
       "    .dataframe thead th {\n",
       "        text-align: right;\n",
       "    }\n",
       "</style>\n",
       "<table border=\"1\" class=\"dataframe\">\n",
       "  <thead>\n",
       "    <tr style=\"text-align: right;\">\n",
       "      <th></th>\n",
       "      <th>node_loc</th>\n",
       "      <th>technology</th>\n",
       "      <th>year_vtg</th>\n",
       "      <th>year_act</th>\n",
       "      <th>mode</th>\n",
       "      <th>time</th>\n",
       "      <th>lvl</th>\n",
       "      <th>mrg</th>\n",
       "    </tr>\n",
       "  </thead>\n",
       "  <tbody>\n",
       "    <tr>\n",
       "      <td>0</td>\n",
       "      <td>Nijmegen</td>\n",
       "      <td>coal_ppl</td>\n",
       "      <td>2020</td>\n",
       "      <td>2020</td>\n",
       "      <td>standard</td>\n",
       "      <td>year</td>\n",
       "      <td>700.000000</td>\n",
       "      <td>0.000000e+00</td>\n",
       "    </tr>\n",
       "    <tr>\n",
       "      <td>1</td>\n",
       "      <td>Nijmegen</td>\n",
       "      <td>coal_ppl</td>\n",
       "      <td>2020</td>\n",
       "      <td>2030</td>\n",
       "      <td>standard</td>\n",
       "      <td>year</td>\n",
       "      <td>600.000000</td>\n",
       "      <td>0.000000e+00</td>\n",
       "    </tr>\n",
       "    <tr>\n",
       "      <td>2</td>\n",
       "      <td>Nijmegen</td>\n",
       "      <td>coal_ppl</td>\n",
       "      <td>2030</td>\n",
       "      <td>2030</td>\n",
       "      <td>standard</td>\n",
       "      <td>year</td>\n",
       "      <td>0.000000</td>\n",
       "      <td>4.411765e+08</td>\n",
       "    </tr>\n",
       "    <tr>\n",
       "      <td>3</td>\n",
       "      <td>Nijmegen</td>\n",
       "      <td>gas_ppl</td>\n",
       "      <td>2020</td>\n",
       "      <td>2020</td>\n",
       "      <td>standard</td>\n",
       "      <td>year</td>\n",
       "      <td>500.000000</td>\n",
       "      <td>0.000000e+00</td>\n",
       "    </tr>\n",
       "    <tr>\n",
       "      <td>4</td>\n",
       "      <td>Nijmegen</td>\n",
       "      <td>gas_ppl</td>\n",
       "      <td>2020</td>\n",
       "      <td>2030</td>\n",
       "      <td>standard</td>\n",
       "      <td>year</td>\n",
       "      <td>666.666667</td>\n",
       "      <td>0.000000e+00</td>\n",
       "    </tr>\n",
       "    <tr>\n",
       "      <td>5</td>\n",
       "      <td>Nijmegen</td>\n",
       "      <td>gas_ppl</td>\n",
       "      <td>2030</td>\n",
       "      <td>2030</td>\n",
       "      <td>standard</td>\n",
       "      <td>year</td>\n",
       "      <td>0.000000</td>\n",
       "      <td>3.866667e+08</td>\n",
       "    </tr>\n",
       "  </tbody>\n",
       "</table>\n",
       "</div>"
      ],
      "text/plain": [
       "   node_loc technology  year_vtg  year_act      mode  time         lvl  \\\n",
       "0  Nijmegen   coal_ppl      2020      2020  standard  year  700.000000   \n",
       "1  Nijmegen   coal_ppl      2020      2030  standard  year  600.000000   \n",
       "2  Nijmegen   coal_ppl      2030      2030  standard  year    0.000000   \n",
       "3  Nijmegen    gas_ppl      2020      2020  standard  year  500.000000   \n",
       "4  Nijmegen    gas_ppl      2020      2030  standard  year  666.666667   \n",
       "5  Nijmegen    gas_ppl      2030      2030  standard  year    0.000000   \n",
       "\n",
       "            mrg  \n",
       "0  0.000000e+00  \n",
       "1  0.000000e+00  \n",
       "2  4.411765e+08  \n",
       "3  0.000000e+00  \n",
       "4  0.000000e+00  \n",
       "5  3.866667e+08  "
      ]
     },
     "execution_count": 56,
     "metadata": {},
     "output_type": "execute_result"
    }
   ],
   "source": [
    "scenario.var('ACT')"
   ]
  },
  {
   "cell_type": "markdown",
   "metadata": {},
   "source": [
    "Finally, at the end of every session it very important to close the connection to the database. Otherwise it will keep on running in the background, and you will not be able to rerun the model."
   ]
  },
  {
   "cell_type": "code",
   "execution_count": 57,
   "metadata": {},
   "outputs": [],
   "source": [
    "mp.close_db()"
   ]
  },
  {
   "cell_type": "code",
   "execution_count": null,
   "metadata": {},
   "outputs": [],
   "source": []
  },
  {
   "cell_type": "code",
   "execution_count": null,
   "metadata": {},
   "outputs": [],
   "source": []
  }
 ],
 "metadata": {
  "kernelspec": {
   "display_name": "Python 3 (ipykernel)",
   "language": "python",
   "name": "python3"
  },
  "language_info": {
   "codemirror_mode": {
    "name": "ipython",
    "version": 3
   },
   "file_extension": ".py",
   "mimetype": "text/x-python",
   "name": "python",
   "nbconvert_exporter": "python",
   "pygments_lexer": "ipython3",
   "version": "3.7.15"
  }
 },
 "nbformat": 4,
 "nbformat_minor": 2
}
