{
 "cells": [
  {
   "cell_type": "markdown",
   "metadata": {},
   "source": [
    "#### Discussion Participation\n",
    "|    |Excellent (A+/A/A-)      | Moderate (C- to B+)   |  Inadequate (D/F) |  \n",
    "|:---|:---------------------------:|:------------------------:|:-----------------------:|\n",
    "|<img width=150/>|<img width=120/>|<img width=120/>|<img width=120/>|\n",
    "|<b> Level of engagement </b> |\tYou proactively contribute during the discussion period, by offering quality ideas and asking constructive questions of other students. | You occasionally contribute to the discussions by offering moderately well-conceived thoughts. |\tYou never or only rarely contribute to the discussions and provide limited input. |\n",
    "|<b> Listening, questioning and discussing\t</b> | You respectively listen, incorporate others’ comments, and help direct the conversation forward. |\tYou listen to others and ask questions. |\tYou have trouble listening, interrupt classmates, and do not consider others’ ideas.|\n",
    "| <b> Behaviour </b>|\tYou encourage your classmates and never display disruptive or disrespectful behaviour during the discussions. |\tYou rarely exhibit disruptive behaviour. |\tYou consistently disrupt the class conversation.|\n",
    "|<b> Preparation </b> |\tYou are always prepared, having researched the week's topic extensively, and use insightful evidence from the reading to support your contributions.|\tYou are usually prepared, with a moderate understanding of the reading and the key positions on the topic, and use some relevant evidence from the reading to support your contributions. |\tYou are underprepared, with very limited understanding of the reading or key positions and the topic, and very limited use of relevant evidence from the reading to support your contribution. |\n"
   ]
  },
  {
   "cell_type": "markdown",
   "metadata": {},
   "source": [
    "#### Discussion Lead\n",
    "\n",
    "|    |Excellent (A+/A/A-)      | Moderate (C- to B+)   |  Inadequate (D/F) |   \n",
    "|:---|:---------------------------:|:------------------------:|:-----------------------:|\n",
    "|<img width=150/>|<img width=120/>|<img width=120/>|<img width=120/>|\n",
    "|<b> Presentation of the topic |\tThe summary provides insight into the key concepts, arguments, and themes of the readings; the summary analyzes the readings through contrasts, contradictions, and limitations; the summary uses real-world examples to highlight key concepts. | The summary includes some key concepts, arguments and themes of the readings, but the analysis requires further development; the summary uses real-world examples, but the connection  to key concepts could use some work.|\tThe summary is missing key concepts, arguments and themes of the readings; the analysis of the reading is weak (or missing); the summary does not include real-world examples to highlight key concepts. |\n",
    "|<b> Discussion questions|\tEach of the three discussion questions focus on (1) analyzing, (2) synthesizing, and (3) evaluating the readings; the discussion questions led to in-depth discussions that require making a judgement, combining ideas, and applying principles in new settings.|\tThe discussion question led to in-depth discussions in some areas of the reading, but was limited to short, matter-of-fact discussions in other key areas. | \tThe discussion question test for knowledge of the subject matter, basic comprehension, and simple application; the discussion questions led to short, matter-of-fact discussions.|\n",
    "| <b> Clear writing style|\tThe report is clearly written with concise and informative statements that draw the reader to the key points.|\tThe report is only relatively clear, and key points are sometimes lost in the text.|\tIt is difficult or impossible to discern which points are key, and which are not.|\n",
    "|<b> Correct grammar and punctuation|\tThe report contains NO spelling mistakes or grammar mistakes.|\tThe report contains grammar and punctuation mistakes, but they are minor.|\tThe report contains grammar and punctuation mistakes that call into question the meaning of statements.|\n"
   ]
  },
  {
   "cell_type": "markdown",
   "metadata": {},
   "source": [
    "#### Term Paper and Presentation\n",
    "\n",
    "|    |Excellent (A+/A/A-)      | Moderate (C- to B+)   |  Inadequate (D/F) |  \n",
    "|---:|:-----------------------:|:----------------:|:--------------------:|\n",
    "|<img width=150/>|<img width=120/>|<img width=120/>|<img width=120/>|\n",
    "|<b> Demonstrate core concepts from the course material and readings </b>  | Term paper demonstrates excellent knowledge of the course concepts that were covered over the term. Paper uses but also builds on these concepts. Project consistent with the course material, including the incorporation of key themes concerning energy systems, modelling, etc.| Term paper demonstrates passable knowledge of key course concepts. The students touch on key concepts, however they are not well developed or lack depth in their analysis. Project mostly consistent with the course material.| \tTerm paper demonstrates only rudimentary knowledge of the course concepts. The students do not reference key concepts from the term, or do so in such a shallow manner that their understanding or appreciation of the concept is not evident.\tProject somewhat consistent with the course material.|\n",
    "|<b> Achievement of objectives  <br>|\tDemonstrates clearly and concisely that objectives were achieved.|\tObjectives were mostly achieved and significant discussion about how the remainder would be achieved in the future.|\tObjectives were not achieved, and the presentation includes insufficient discussion about why they were not achieved or how they could be achieved in the future.|\t\n",
    " |<b> Contextualizing the topic within the broader landscape </b>  |\tThe paper contextualizes the topic of choice concisely within the broader modelling or policy landscape. The paper outlines which stakeholders would be impacted by the conclusions and why. |\tThe paper briefly contextualizes the topic within the broader landscape, but in limited depth, leaving the listener with some questions regarding which stakeholders would be impacted and why. |\tThe contextualization is lacking or sorely incomplete, leaving the listener with limited understanding of how the policy fits into the broader landscape and with many questions regarding which stakeholders would be impacted and why.  |\n",
    "|<b> Quality of results <br> |\tThe results articulate key points clearly and effectively. Visualizations are appropriate and compelling. Discussion reflects decarbonization themes and project motivations comprehensively.|\tResults mostly articulate key points, but lack detail in some. Visualizations have slight errors/ inefficiencies that do not impact overall effectiveness. Discussion reflects decarbonization themes and project motivations sufficiently.\t| Results lack significant detail in key points. Visualizations have errors significant enough to impact overall effectiveness. Discussion does not sufficiently represent decarbonization themes or project motivations.|\t\n",
    "|<b> Quality of analysis <br> |\t The analysis clearly identifies the objective and constraints of the research, and uses robust data sources to formulate a logical argument around the paper's objective, analysis and results. Limitations of the analysis are discussed. Key points are articulated and defended in a compelling manner. The discussion reflects a deep understanding of the topic area itself as well as the core course concepts. Scenario matrix is appropriate. Relevant insights are extracted and concisely discussed in a compelling manner, including delivery through a thoughtful narrative.| The analysis identifies the objectives and constraints, but they are not communicated as clearly or concisely as otherwise might be possible. While good data sources have been used to substantiate your argument, you might have gone further in terms of defending your argument in a convincing way. The analysis is logical, but some key points are not well articulated. The limitations could use some improvement. The discussion reflects a good (but not excellent) understanding of the policy and course concepts. Analysis lacks details or includes minor errors. Insights extracted are relevant and discussed well. The scenario matrix is well formulate, but may lack a relevant dimension or the bounds may not be appropriate.|\tThe analysis does not identify the policy objectives and constraints clearly. The listener is left wondering what issue the policy was designed to mitigate. The data sources were not adequate to substantiate your argument. Limitations are not discussed. There is insufficient analysis of the key points, and how they connect to broader course concepts. The discussion reflects a superficial understanding of the policy and the course concepts. Analysis lacks significant detail in scenario matrix, insight and related discussion.|\t\t\n",
    "|<b> Presentation clarity <br> |\tPresentation has a logical flow. Oral presentation matches slides.|\tPresentation has an overall logical flow, but either has some areas of illogical flow/pacing. Oral presentation matches slides.|\tThe flow of the presentation is hard to follow; there are significant areas of illogical structure or pacing. Oral presentation somewhat matches slides.|\t\n",
    "|<b> Quality of the slides </b> \t| Presentation slides or material have a logical flow and overall neatness.\t| Presentation slides have an overall logical flow, but they are interspersed with some distractions or inconsistencies. There are areas where neatness may be lacking. |\tPresentation slides have a scattered flow or are illogically organized. The slides can be hard to read, or their design is distracting. |\n",
    "\n",
    "\n",
    "    \n",
    "\n"
   ]
  },
  {
   "cell_type": "markdown",
   "metadata": {},
   "source": [
    "\n",
    "\n",
    "\n"
   ]
  }
 ],
 "metadata": {
  "kernelspec": {
   "display_name": "Python 3 (ipykernel)",
   "language": "python",
   "name": "python3"
  },
  "language_info": {
   "codemirror_mode": {
    "name": "ipython",
    "version": 3
   },
   "file_extension": ".py",
   "mimetype": "text/x-python",
   "name": "python",
   "nbconvert_exporter": "python",
   "pygments_lexer": "ipython3",
   "version": "3.7.15"
  }
 },
 "nbformat": 4,
 "nbformat_minor": 2
}
